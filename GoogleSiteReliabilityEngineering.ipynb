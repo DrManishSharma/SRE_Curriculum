{
  "nbformat": 4,
  "nbformat_minor": 0,
  "metadata": {
    "colab": {
      "name": "GoogleSiteReliabilityEngineering.ipynb",
      "provenance": [],
      "collapsed_sections": [],
      "authorship_tag": "ABX9TyMpb3aHif8Zk4qDCS6v/14c",
      "include_colab_link": true
    },
    "kernelspec": {
      "name": "python3",
      "display_name": "Python 3"
    },
    "language_info": {
      "name": "python"
    }
  },
  "cells": [
    {
      "cell_type": "markdown",
      "metadata": {
        "id": "view-in-github",
        "colab_type": "text"
      },
      "source": [
        "<a href=\"https://colab.research.google.com/github/DrManishSharma/SRE_Curriculum/blob/main/GoogleSiteReliabilityEngineering.ipynb\" target=\"_parent\"><img src=\"https://colab.research.google.com/assets/colab-badge.svg\" alt=\"Open In Colab\"/></a>"
      ]
    },
    {
      "cell_type": "markdown",
      "metadata": {
        "id": "CgC5y4cVgWOU"
      },
      "source": [
        "# <center><font color=red> Curriculum Design for Google's Site Reliability Engineering (SRE)</style> </center>"
      ]
    },
    {
      "cell_type": "markdown",
      "metadata": {
        "id": "eT0wQ3F_gwpi"
      },
      "source": [
        "How did I create the outline. \n",
        "1. Understand the role, what is expected out of a typical SRE candidate. \n",
        "2. Check the specific Job description of Google's SRE (GSRE). \n",
        "<ul><li>What are different role available in GSRE</li>\n",
        "<li>How many years of experience and what skill level demarkates the differen roles </li></ul>\n",
        "3. Take help from peers, previous Google candidates, Glass Door interview question of the companies of same stature (FANG+) to have additional information about the interview question styles, topics covered. \n",
        "4. Make the list of desired skills for GSRE and focus the curriculum around this list. \n",
        "5. For the timeline look up on the content, look for similar courses and decide a timeline. \n",
        "6. Refinement: Talk to the master of the game a GSRE and get the curriculum and timeline validated. \n"
      ]
    },
    {
      "cell_type": "markdown",
      "metadata": {
        "id": "xRQNFBuqkWpI"
      },
      "source": [
        "## Common roles and responsibility for SRE\n"
      ]
    },
    {
      "cell_type": "code",
      "metadata": {
        "id": "ke817nqegGzv"
      },
      "source": [
        "# Responsible for developing systems that increases site reliablity and performance. Often its a part of DevOps.\n",
        "# SRE is a modern proactive form of QA"
      ],
      "execution_count": 1,
      "outputs": []
    },
    {
      "cell_type": "code",
      "metadata": {
        "id": "wrquZU3QgP45"
      },
      "source": [
        "# monitoring code changes\n",
        "# alerting code changes\n",
        "# can be asked to build such softwares from scratch or work upon weakpart of the softwares\n",
        "# Fixing support escalation issues\n",
        "# can update runbooks, tools and documentation to help prepare on-call teams for future incidents\n",
        "# conducting post-incident review"
      ],
      "execution_count": null,
      "outputs": []
    },
    {
      "cell_type": "markdown",
      "metadata": {
        "id": "25EfHLCqwxsh"
      },
      "source": [
        "# Some Job Descriptions [Link](https://careers.google.com/jobs/results/108558820218675910-systems-engineer-site-reliability-engineering/?gclid=Cj0KCQjw7pKFBhDUARIsAFUoMDY5RcQ3-qBA6vo7JZjvcheNz8d-d0zaoy6MVrg7u3UWkugin_KJIeYaArUAEALw_wcB&gclsrc=aw.ds&location=United%20States&q=Site%20Reliability%20Engineering&src=Online%2FHouse%20Ads%2FBKWS_SWE) \n",
        "## GSRE, System Enginner (LA, USA)\n",
        "\n",
        "<b>Minimum qualifications:</b><br>\n",
        "Bachelor's degree in Computer Science or related technical field, or equivalent practical experience.<br>\n",
        "Experience programming in one or more of: C, C++, Java, Python, Go, etc.<br>\n",
        "Experience with Unix/Linux operating systems internals (e.g. filesystems, system calls), and with networking (e.g. routing, ESDN) or cloud systems.\n",
        "Experience analyzing and troubleshooting systems.<br>\n",
        "\n",
        "<b>Preferred qualifications:</b><br>\n",
        "Experience designing large-scale distributed systems.<br>\n",
        "Experience designing and developing software oriented towards systems or network automation.<br>\n",
        "Ability to debug, optimize code, and automate routine tasks.<br>\n",
        "Systematic problem-solving approach, coupled with effective communication skills and a sense of drive.<br>\n",
        "\n",
        "<b>Responsibilites</b><br>\n",
        "Engage in and improve the whole lifecycle of services, from inception and design, through to deployment, operation and refinement.<br>\n",
        "Support services before they go live through activities such as system design consulting, developing software platforms and frameworks, capacity planning and launch reviews.<br>\n",
        "Maintain services once they are live by measuring and monitoring availability, latency and overall system health.<br>\n",
        "Scale systems sustainably through mechanisms like automation and evolve systems by pushing for changes that improve reliability and velocity.<br>\n",
        "Practice sustainable incident response and postmortems.<br>\n",
        "Develop innovative solutions to ensure efficient SRE processes under regulatory requirements. Bring SRE expertise to the product teams that enforce regulatory requirements.<br>\n"
      ]
    },
    {
      "cell_type": "markdown",
      "metadata": {
        "id": "4zJoaywBz6v7"
      },
      "source": [
        "# Generic Description\n",
        "\n",
        "## <b>Qualification Required:</b>\n",
        "\n",
        "<ol>\n",
        "<li>Experience in programming (C, C++, Python, Go, e.t.c)</li>\n",
        "<li>Experience with:\n",
        "<ul> \n",
        "<li>Unix/Linux OS (file systems, system calls)</li>\n",
        "<li>Networking (routing, ESDN)</li>\n",
        "<li>Cloud Systems</li>\n",
        "<li>Analyzing and troubleshooting systems</li>\n",
        "<li>Databases</li>\n",
        "</ul>\n",
        "</li>\n",
        "<li>Preferable experience:\n",
        "<ul>\n",
        "<li>Designing Large scale distributed systems (load balancing, data replicatoin)</li>\n",
        "<li>Software for network automation</li>\n",
        "<li>Dubug and optimize code</li>\n",
        "<li>Automate routine tasks</li>\n",
        "</ul>\n",
        "</li>\n",
        "</ol>\n",
        "_____________________________________________________________________________________________"
      ]
    },
    {
      "cell_type": "markdown",
      "metadata": {
        "id": "aDF9OrCyO_Yd"
      },
      "source": [
        "## GSRE Program (50 % development 50 % ops):\n",
        "<ol>\n",
        "<li>Data Structures and Algorithms</li>\n",
        "<ol>\n",
        "<li>Concepts</li>\n",
        "<li>Revision</li>\n",
        "<li>QnA preparaton</li>\n",
        "</ol>\n",
        "<li>Getting acquainted with Linux interface</li>\n",
        "<ol>\n",
        "<li>Familiarizing with linux programming interface</li>\n",
        "<li>File Systems</li>\n",
        "<li>Troubleshooting</li>\n",
        "</ol>\n",
        "<li> Networking and Security</li>\n",
        "\n",
        "<li>Cloud Systems</li>\n",
        "\n",
        "<li>Designing Scalable Systems & Databases</li>\n",
        "\n",
        "</ol>"
      ]
    },
    {
      "cell_type": "markdown",
      "metadata": {
        "id": "Xlp-q4uywIRF"
      },
      "source": [
        "# Curriculum and Timeline:"
      ]
    },
    {
      "cell_type": "markdown",
      "metadata": {
        "id": "ZcrrdrLO4u9e"
      },
      "source": [
        "## 1. Data structure and Algorithm\n",
        "|Sub-Module|Time|\n",
        "|----------|:----|\n",
        "|Data Structures<br>(Linked list, Stack, Queue, Heap, Hash table, Binary tree)| 8 hours |\n",
        "|Algorithms <br> (Mergesort, Quicksort, Binary search) | 8 hours |\n",
        "|Thinking in terms of O(n) complexity of algorithms | 4 hours |\n",
        "|<b>Total</b>|<b>20 hours</b>"
      ]
    },
    {
      "cell_type": "markdown",
      "metadata": {
        "id": "Ur8OFybrK7re"
      },
      "source": [
        "## 2. Getting Acquainted with Linux Interface \n",
        "| Sub-Module                                                   |Time     |\n",
        "|---------------------------------------------------------|:--------------|\n",
        "|Linux startup process <br>                     | 1 hour  \n",
        "|Filesystems, Inodes| 2 hour \n",
        "|All about Linux Kernel, interaction between kernel and user space | 2 hours\n",
        "|Memory management, memory leak     | 2 hours\n",
        "|Linux troubleshooting  (vmstat, mpstat,iostat,netstat, top, e.t.c.) + Exercise|4 hours\n",
        "| <b>Total</b> |<b>11 hours</b>\n",
        "\n",
        "[Detailed info on Submodules](#LI)"
      ]
    },
    {
      "cell_type": "markdown",
      "metadata": {
        "id": "FAoNkhDjybkO"
      },
      "source": [
        "## 3. Networking and Security\n",
        "| Sub-Module                                                   |Time     |\n",
        "|---------------------------------------------------------|:--------------|\n",
        "|Networking fundamentals & All about protocols                       | 3 hour   \n",
        "|Network load balancing and load balancing algorithms <br>| 4 hour\n",
        "|Network sniffing, Vulnerability testings, Linux based security tools| 1 hour| \n",
        "| <b>Total</b> |<b>8 hours</b>\n",
        "\n",
        "[Detailed info on Submodules](#NS)\n",
        "\n",
        "\n"
      ]
    },
    {
      "cell_type": "markdown",
      "metadata": {
        "id": "JI2wyemB4SuO"
      },
      "source": [
        "## 4. Cloud Systems <a name=\"Cloud Systems\"></a> \n",
        "| Sub-Module                                                   |Time     |\n",
        "|---------------------------------------------------------|:--------------|\n",
        "|Automate infrastructure provisioning and configuration using Terraform and Ansible                      | 4 hour  \n",
        "|Primer with GCP| 2 hour \n",
        "| <b>Total</b> |<b>6 hours</b>\n",
        "\n",
        "[Detailed info on Submodules](#CS)"
      ]
    },
    {
      "cell_type": "markdown",
      "metadata": {
        "id": "YG6JRwYtwXyl"
      },
      "source": [
        "## 5. Designing Scalable Systems & Databses\n",
        "| Sub-Module                                                   |Time     |\n",
        "|---------------------------------------------------------|:--------------|\n",
        "|Service Level Objectives (Monitoring)                    | 4 hour  \n",
        "|Basic System Design And Architecture for scalable systems | 4 hour|\n",
        "|Data partitioning, load Balancing  | 3 hours\n",
        "|Database design, database cleaning  | 3 hours\n",
        "|Security and permissions | 2 hours\n",
        "|Discussion: Designing systems like Youtube, Dropbox or Uber|4 hour \n",
        "| <b>Total</b> |<b>20 hours</b>\n",
        "\n",
        "[Detailed info on Submodules](#DSSD)\n",
        "\n",
        "\n",
        "\n",
        "\n",
        "\n",
        "\n",
        "\n",
        "\n"
      ]
    },
    {
      "cell_type": "markdown",
      "metadata": {
        "id": "kN-H-H4KM8Ez"
      },
      "source": [
        "# Curriculum in depth: <a name=\"CID\"></a>\n"
      ]
    },
    {
      "cell_type": "markdown",
      "metadata": {
        "id": "CotQjl7sM-K_"
      },
      "source": [
        "\n",
        "# 1. Data structure and Algorithm <a name=\"DS\"></a>\n",
        "\n"
      ]
    },
    {
      "cell_type": "markdown",
      "metadata": {
        "id": "lGm65_RyNBAx"
      },
      "source": [
        "# 2. Getting Acquainted with Linux Interface <a name=\"LI\"></a>\n",
        "<ul>\n",
        "\n",
        "<li><b>Linux startup process</b></li>\n",
        "<ul>Detailed boot process involving BIOS, MBR, GRUB, Kernel, Init and \n",
        "Runlevel Programs</ul>\n",
        "\n",
        "<li><b>Filesystems, linux directory structure</b></li>\n",
        "<ul>Filesystems (XFS, EXT3, EXT4,ntfs, fat), linux directory structure,Inodes (metadata storage), Superblock, Hard Link, Soft Link </ul>\n",
        "\n",
        "<li><b>All about Linux Kernel, interaction between kernel and user space</b></li>\n",
        "<ul>Memory management (what is stored and where is it stored), Process management (who, when and for how long can use RAM), Device drivers, \n",
        "System calls and security</ul>\n",
        "\n",
        "<li><b>Memory management, memory leak</b></li>\n",
        "<ul>Processor's physical and virtual address space, Pages and Page Fault, \n",
        "Low Memory and High Memory, Memory Allocation Mechanism - Buddy Allocator, \n",
        "Dynamic Memory Allocation in Linux Kernel,About the memory flags (GFP_KERNEL, GFP_ATOMIC, GFP_DMA),kmalloc and vmalloc </ul>\n",
        "\n",
        "<li><b>Linux troubleshooting</b></li>\n",
        "<ul> Boot issues troubleshooting, System access troubleshooting, File system troubleshooting, Network issue troubleshooting, System administration troubleshooting, System recovery </ul>\n",
        "</ul>"
      ]
    },
    {
      "cell_type": "markdown",
      "metadata": {
        "id": "r9ClPmbUNC2M"
      },
      "source": [
        "\n",
        "# 3. Networking and Security <a name=\"NS\"></a>\n",
        "<ul>\n",
        "<li><b> Networking fundamentals & All about protocols</b></li>\n",
        "<ul>How network works, IP addressing, Subnetting, Understanding hubs, switches & routers, Network protocols: ARP, ICMP, IP, UDP, TCP,DHCP, DNS, HTTP, FTP </ul>\n",
        "\n",
        "<li><b> Network load balancing and load balancing algorithms</b></li>\n",
        "<ul>Load balancer NAT rules, Availability set, availablity rules, traffic manager,interfaces for virtual networking, Load balancing algorithms: random, round robin, wighted round robin, predictive </ul>\n",
        "\n",
        "<li><b> Network sniffing, Vulnerability testings, Linux based security tools</b></li>\n",
        "<ul>Design principles for maximum security network, local and remote attack prevention, IPtables firewall on linux, encryption weakess, Moniotring for security breaches</ul>\n",
        "</ul>"
      ]
    },
    {
      "cell_type": "markdown",
      "metadata": {
        "id": "5r95o7TVG5Xl"
      },
      "source": [
        "# 4.Cloud Systems <a name=\"CS\"></a>\n",
        "<ul>\n",
        "<li><b>Automate infrastructure provisioning and configuration using Terraform and Ansible</b></li>\n",
        "<ul>\n",
        "Automating infrastructure provisioning using terraform, Configuring network (Route tables, Internet gateways, public subnets, private subnets), Automatic deployments of terraform code using Jenkins, Use Ansible terraform modules to configure terraform modification, Terraform, resources, loops, functions, data sources, variables, outputs and modules,\n",
        "Building reusable modules with terraform</ul>\n",
        "<li><b>Primer with GCP</b></li>\n",
        "<ul>Cloud Computing Architecture,Service Management,Data Management,Resource Management & Cloud Security. (Bonus: Fog Computing) </ul>\n",
        "</ul>\n"
      ]
    },
    {
      "cell_type": "markdown",
      "metadata": {
        "id": "_uHuosAiMryd"
      },
      "source": [
        "# 5. Designing Scalable Systems & Databases <a name=\"DSSD\"></a>\n",
        "\n",
        "<li><b>System Design and Architecture for scalable systems</b></li>\n",
        "<ul>Fundamental laws of Scalability, Amdahl's Law, Contention and\n",
        "Coherency in Distributed Systems, Shared and Distributed memory architectures</ul>\n",
        "\n",
        "<li><b>Service Level Objectives (Monitoring)</b></li>\n",
        "\n",
        "\n",
        "<li><b>Data partitioning, load Balancing</b></li>\n",
        "<ul>CAP Theorem, Defining Partition Tolerance, tradeoff between Consistency and Availability, Conflict-Free Replicated Data Types (CRDTs), CRDTs for Availability </ul>\n",
        "\n",
        "<li><b>Database design, database cleaning </b></li>\n",
        "<ul>How Sharding works, Advantages/Disadvantages of Sharding, </ul>\n",
        "\n",
        "<li><b>Security and permissions</b></li>\n",
        "\n",
        "\n",
        "<li><b>Discussion: Designing systems like Youtube, Dropbox or Uber</b></li>"
      ]
    },
    {
      "cell_type": "markdown",
      "metadata": {
        "id": "lxmBvrnX9W8O"
      },
      "source": [
        "# Extra Resources\n",
        "## QnA from GSRE interview\n",
        "Source [link](https://catonmat.net/my-job-interview-at-google)\n",
        "<ul>\n",
        "<li>Tell me about one of the projects on your resume.</li>\n",
        "<li>What technologies did you use to get this project going?<br>\n",
        "<li>What if your project had 5000 or 50000 or 5000000 users?\n",
        "<li>What's an inode?\n",
        "<li>What's the angle between clock hands when it's 3:15?\n",
        "<li>Write a C function that returns angle between clock hands for any (hour, minute).\n",
        "<li>Write a binary tree.\n",
        "<li>How would you troubleshoot this problem - network diagram presented.\n",
        "<li>What's the difference between a router and switch?\n",
        "<li>Implement a routine in C that counts number of characters in a string.\n",
        "<li>Given 100GB file and a computer with 1GB of memory, how would you sort it.\n",
        "<li>Can you make it parallel and solve it on 100 computers?\n",
        "<li>What's a priority queue?\n",
        "<li>How does BGP work?\n",
        "<li>Can DNS use TCP? In which cases DNS uses TCP?\n",
        "<li>Implement set difference in any language you like.\n",
        "<li>How does HTTP work?\n",
        "<li>How does 3 way handshake work in TCP?\n",
        "<li>What's void *?\n",
        "<li>What's the sticky bit?\n",
        "<li>What's the system call for creating files?\n",
        "<li>Order by execution time: reading disk, accessing memory, context switch, writing a cpu register.\n",
        "<li>How would you count the number of set bits in a very huge number?"
      ]
    },
    {
      "cell_type": "code",
      "metadata": {
        "id": "njv7_V0zxpy9"
      },
      "source": [
        "# resources\n",
        "http://norvig.com/21-days.html#answers\n",
        "https://blog.balthazar-rouberol.com/preparing-the-sre-interview\n",
        "https://medium.com/tech-at-wildlife-studios/wildlifes-sre-interview-process-and-how-to-prepare-for-it-33ad805880b8\n",
        "https://github.com/mxssl/sre-interview-prep-guide\n",
        "https://syedali.net/engineer-interview-questions/\n",
        "https://netflixtechblog.com/netflix-at-velocity-2015-linux-performance-tools-51964ddb81cf\n",
        "https://www.educative.io/courses/grokking-the-system-design-interview?affiliate_id=5073518643380224\n"
      ],
      "execution_count": null,
      "outputs": []
    }
  ]
}